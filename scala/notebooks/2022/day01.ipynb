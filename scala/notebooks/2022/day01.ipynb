{
 "cells": [
  {
   "attachments": {},
   "cell_type": "markdown",
   "id": "1d5595cf",
   "metadata": {},
   "source": [
    "**Given**:\n",
    "\n",
    "Grouped list of numbers. Each number in one line. Each group is separated by an empty line.\n",
    "\n",
    "For example:\n",
    "```\n",
    "1000\n",
    "2000\n",
    "3000\n",
    "\n",
    "4000\n",
    "\n",
    "5000\n",
    "6000\n",
    "\n",
    "7000\n",
    "8000\n",
    "9000\n",
    "\n",
    "10000\n",
    "```\n",
    "\n",
    "**Part 1**:\n",
    "\n",
    "Find the sum of all numbers in the largest group\n",
    "\n",
    "**Solution**:\n",
    "\n",
    "- Read the input file and store its contents in a `String`"
   ]
  },
  {
   "cell_type": "code",
   "execution_count": 55,
   "id": "7cc4fcc8",
   "metadata": {},
   "outputs": [
    {
     "data": {
      "text/plain": [
       "\u001b[36mcontents\u001b[39m: \u001b[32mString\u001b[39m = \u001b[32m\"\"\"1000\n",
       "2000\n",
       "3000\n",
       "\n",
       "4000\n",
       "\n",
       "5000\n",
       "6000\n",
       "\n",
       "7000\n",
       "8000\n",
       "9000\n",
       "\n",
       "10000\"\"\"\u001b[39m"
      ]
     },
     "execution_count": 55,
     "metadata": {},
     "output_type": "execute_result"
    }
   ],
   "source": [
    "val contents = scala.io.Source.fromFile(\"day01.txt\").getLines.mkString(\"\\n\")"
   ]
  },
  {
   "attachments": {},
   "cell_type": "markdown",
   "id": "3bfed39e",
   "metadata": {},
   "source": [
    "\n",
    "> ### *Note*:\n",
    "> `Source.fromFile(...).getLines` would return an `Iterator` whereas `Source.fromFile(...).getLines.mkString` converts the entire file's contents into a String.\n",
    "> If the file is large, `mkString` function will cosume large storage space that would lead to performance issues. In this case, we know the file size is small,\n",
    "> hence we used `mkString` directly. We could rewrite the code without making a String like this:\n",
    "> ```scala\n",
    "var grouped = List[List[String]]()\n",
    "var _container = List[String]()\n",
    "scala.io.Source.fromFile(\"../inputs/2022/day01.txt\")\n",
    "    .getLines\n",
    "    .foreach(line => {\n",
    "        if (line == \"\") {\n",
    "            grouped :+= _container\n",
    "            _container = List()\n",
    "        } else {\n",
    "            _container :+= line\n",
    "        }\n",
    "    })\n",
    "> ```"
   ]
  },
  {
   "attachments": {},
   "cell_type": "markdown",
   "id": "16909e5a",
   "metadata": {},
   "source": [
    "- Use the `.split` function group the contents. Since each group is separated by a new line, we should split on two new line characters `\"\\n\\n\"`."
   ]
  },
  {
   "cell_type": "code",
   "execution_count": 56,
   "id": "d1860dfb",
   "metadata": {},
   "outputs": [
    {
     "data": {
      "text/plain": [
       "\u001b[36mgrouped\u001b[39m: \u001b[32mArray\u001b[39m[\u001b[32mArray\u001b[39m[\u001b[32mString\u001b[39m]] = \u001b[33mArray\u001b[39m(\n",
       "  \u001b[33mArray\u001b[39m(\u001b[32m\"1000\"\u001b[39m, \u001b[32m\"2000\"\u001b[39m, \u001b[32m\"3000\"\u001b[39m),\n",
       "  \u001b[33mArray\u001b[39m(\u001b[32m\"4000\"\u001b[39m),\n",
       "  \u001b[33mArray\u001b[39m(\u001b[32m\"5000\"\u001b[39m, \u001b[32m\"6000\"\u001b[39m),\n",
       "  \u001b[33mArray\u001b[39m(\u001b[32m\"7000\"\u001b[39m, \u001b[32m\"8000\"\u001b[39m, \u001b[32m\"9000\"\u001b[39m),\n",
       "  \u001b[33mArray\u001b[39m(\u001b[32m\"10000\"\u001b[39m)\n",
       ")"
      ]
     },
     "execution_count": 56,
     "metadata": {},
     "output_type": "execute_result"
    }
   ],
   "source": [
    "val grouped = contents.split(\"\\n\\n\").map(_.split(\"\\n\"))"
   ]
  },
  {
   "attachments": {},
   "cell_type": "markdown",
   "id": "c9848997",
   "metadata": {},
   "source": [
    "- Now that we have a list of grouped lines, we need to calculate the sum of each group.\n",
    "  - Scala (like any other functional language) has a comprehensive suite of functions to manipulate a collection and they are best suited for coding problems that requires finding the solution through manipulating a collection.\n",
    "  - The code below should be readable."
   ]
  },
  {
   "cell_type": "code",
   "execution_count": 57,
   "id": "ca8dfaaf",
   "metadata": {
    "scrolled": true
   },
   "outputs": [
    {
     "data": {
      "text/plain": [
       "\u001b[36msumOfGroups\u001b[39m: \u001b[32mArray\u001b[39m[\u001b[32mInt\u001b[39m] = \u001b[33mArray\u001b[39m(\u001b[32m6000\u001b[39m, \u001b[32m4000\u001b[39m, \u001b[32m11000\u001b[39m, \u001b[32m24000\u001b[39m, \u001b[32m10000\u001b[39m)"
      ]
     },
     "execution_count": 57,
     "metadata": {},
     "output_type": "execute_result"
    }
   ],
   "source": [
    "val sumOfGroups = grouped\n",
    "  .map(_.map(_.toInt))\n",
    "  .map(_.sum)"
   ]
  },
  {
   "attachments": {},
   "cell_type": "markdown",
   "id": "c42cdf2a",
   "metadata": {},
   "source": [
    "- We now have the list of sums of each group. Part 1 requires us to find the largest of this list. For that we shall use the `.max` function"
   ]
  },
  {
   "cell_type": "code",
   "execution_count": 58,
   "id": "5bd75f93",
   "metadata": {},
   "outputs": [
    {
     "data": {
      "text/html": [
       "<div class=\"jp-RenderedText\">\n",
       "<pre><code><span style=\"color: rgb(0, 187, 187)\"><span class=\"ansi-cyan-fg\">largest</span></span>: <span style=\"color: rgb(0, 187, 0)\"><span class=\"ansi-green-fg\">Int</span></span> = <span style=\"color: rgb(0, 187, 0)\"><span class=\"ansi-green-fg\">24000</span></span></code></pre>\n",
       "</div>"
      ],
      "text/plain": [
       "\u001b[36mlargest\u001b[39m: \u001b[32mInt\u001b[39m = \u001b[32m24000\u001b[39m"
      ]
     },
     "metadata": {},
     "output_type": "display_data"
    }
   ],
   "source": [
    "var largest = sumOfGroups.max"
   ]
  },
  {
   "attachments": {},
   "cell_type": "markdown",
   "id": "fe5400e3",
   "metadata": {},
   "source": [
    "**Part 2**:\n",
    "Find the sum of largest three.\n",
    "\n",
    "**Solution**:\n",
    "- Since we already have the sum of the group, we can find the largest three by sorting the list and taking the highest 3"
   ]
  },
  {
   "cell_type": "code",
   "execution_count": 59,
   "id": "0d06537f",
   "metadata": {},
   "outputs": [
    {
     "data": {
      "text/html": [
       "<div class=\"jp-RenderedText\">\n",
       "<pre><code><span style=\"color: rgb(0, 187, 187)\"><span class=\"ansi-cyan-fg\">topThreeSum</span></span>: <span style=\"color: rgb(0, 187, 0)\"><span class=\"ansi-green-fg\">Int</span></span> = <span style=\"color: rgb(0, 187, 0)\"><span class=\"ansi-green-fg\">45000</span></span></code></pre>\n",
       "</div>"
      ],
      "text/plain": [
       "\u001b[36mtopThreeSum\u001b[39m: \u001b[32mInt\u001b[39m = \u001b[32m45000\u001b[39m"
      ]
     },
     "metadata": {},
     "output_type": "display_data"
    }
   ],
   "source": [
    "var topThreeSum = sumOfGroups.sorted.takeRight(3).sum"
   ]
  },
  {
   "attachments": {},
   "cell_type": "markdown",
   "id": "5faefdd9",
   "metadata": {},
   "source": [
    "### Reference\n",
    "- [Source](https://scala-lang.org/api/3.x/scala/io/Source$.html) This object provides convenience methods to create an iterable representation of a source file.\n",
    "- [Iterable](https://scala-lang.org/api/3.x/scala/collection/Iterable.html) Base trait for generic collections."
   ]
  }
 ],
 "metadata": {
  "kernelspec": {
   "display_name": "Scala",
   "language": "scala",
   "name": "scala"
  },
  "language_info": {
   "codemirror_mode": "text/x-scala",
   "file_extension": ".sc",
   "mimetype": "text/x-scala",
   "name": "scala",
   "nbconvert_exporter": "script",
   "version": "2.13.10"
  }
 },
 "nbformat": 4,
 "nbformat_minor": 5
}

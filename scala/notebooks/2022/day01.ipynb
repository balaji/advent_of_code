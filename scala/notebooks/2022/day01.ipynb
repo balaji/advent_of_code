{
 "cells": [
  {
   "attachments": {},
   "cell_type": "markdown",
   "id": "1d5595cf",
   "metadata": {},
   "source": [
    "**Given**:\n",
    "\n",
    "Grouped list of numbers. Each number in one line. Each group is separated by an empty line.\n",
    "\n",
    "For example:\n",
    "```\n",
    "1000\n",
    "2000\n",
    "3000\n",
    "\n",
    "4000\n",
    "\n",
    "5000\n",
    "6000\n",
    "\n",
    "7000\n",
    "8000\n",
    "9000\n",
    "\n",
    "10000\n",
    "```\n",
    "\n",
    "**Part 1**:\n",
    "\n",
    "Find the sum of all numbers in the largest group\n",
    "\n",
    "**Solution**:\n",
    "\n",
    "- Read the input file and store its contents in a `String`"
   ]
  },
  {
   "cell_type": "code",
   "execution_count": 7,
   "id": "7cc4fcc8",
   "metadata": {},
   "outputs": [
    {
     "data": {
      "text/plain": [
       "\u001b[36mcontents\u001b[39m: \u001b[32mString\u001b[39m = \u001b[32m\"\"\"1000\n",
       "2000\n",
       "3000\n",
       "\n",
       "4000\n",
       "\n",
       "5000\n",
       "6000\n",
       "\n",
       "7000\n",
       "8000\n",
       "9000\n",
       "\n",
       "10000\"\"\"\u001b[39m"
      ]
     },
     "execution_count": 7,
     "metadata": {},
     "output_type": "execute_result"
    }
   ],
   "source": [
    "val contents = scala.io.Source.fromFile(\"day01.txt\").getLines.mkString(\"\\n\")"
   ]
  },
  {
   "attachments": {},
   "cell_type": "markdown",
   "id": "16909e5a",
   "metadata": {},
   "source": [
    "- Use the `.split` function group the contents. Since each group is separated by a new line, we should split on two new line characters `\"\\n\\n\"`."
   ]
  },
  {
   "cell_type": "code",
   "execution_count": 8,
   "id": "d1860dfb",
   "metadata": {},
   "outputs": [
    {
     "data": {
      "text/plain": [
       "\u001b[36mgrouped\u001b[39m: \u001b[32mArray\u001b[39m[\u001b[32mString\u001b[39m] = \u001b[33mArray\u001b[39m(\n",
       "  \u001b[32m\"\"\"1000\n",
       "2000\n",
       "3000\"\"\"\u001b[39m,\n",
       "  \u001b[32m\"4000\"\u001b[39m,\n",
       "  \u001b[32m\"\"\"5000\n",
       "6000\"\"\"\u001b[39m,\n",
       "  \u001b[32m\"\"\"7000\n",
       "8000\n",
       "9000\"\"\"\u001b[39m,\n",
       "  \u001b[32m\"10000\"\u001b[39m\n",
       ")"
      ]
     },
     "execution_count": 8,
     "metadata": {},
     "output_type": "execute_result"
    }
   ],
   "source": [
    "val grouped = contents.split(\"\\n\\n\")"
   ]
  },
  {
   "attachments": {},
   "cell_type": "markdown",
   "id": "c9848997",
   "metadata": {},
   "source": [
    "- Now that we have a list of grouped lines, we need to calculate the sum of each group."
   ]
  },
  {
   "cell_type": "code",
   "execution_count": 9,
   "id": "ca8dfaaf",
   "metadata": {
    "scrolled": true
   },
   "outputs": [
    {
     "data": {
      "text/plain": [
       "\u001b[36msorted\u001b[39m: \u001b[32mArray\u001b[39m[\u001b[32mInt\u001b[39m] = \u001b[33mArray\u001b[39m(\u001b[32m4000\u001b[39m, \u001b[32m6000\u001b[39m, \u001b[32m10000\u001b[39m, \u001b[32m11000\u001b[39m, \u001b[32m24000\u001b[39m)"
      ]
     },
     "execution_count": 9,
     "metadata": {},
     "output_type": "execute_result"
    }
   ],
   "source": [
    "val sorted = grouped\n",
    "  .map(_.split(\"\\n\").map(_.toInt))\n",
    "  .map(_.sum)\n",
    "  .sorted"
   ]
  },
  {
   "cell_type": "code",
   "execution_count": null,
   "id": "031b01ba",
   "metadata": {},
   "outputs": [],
   "source": []
  }
 ],
 "metadata": {
  "kernelspec": {
   "display_name": "Scala",
   "language": "scala",
   "name": "scala"
  },
  "language_info": {
   "codemirror_mode": "text/x-scala",
   "file_extension": ".sc",
   "mimetype": "text/x-scala",
   "name": "scala",
   "nbconvert_exporter": "script",
   "version": "2.13.10"
  }
 },
 "nbformat": 4,
 "nbformat_minor": 5
}

{
 "cells": [
  {
   "attachments": {},
   "cell_type": "markdown",
   "id": "0e38e632",
   "metadata": {},
   "source": [
    "# Scala Solutions for 2022\n",
    "\n",
    "- [Day 01](./day01.ipynb) -> Cons (`::`), `foldLeft` and other operations on collections."
   ]
  }
 ],
 "metadata": {
  "kernelspec": {
   "display_name": "Scala",
   "language": "scala",
   "name": "scala"
  },
  "language_info": {
   "codemirror_mode": "text/x-scala",
   "file_extension": ".sc",
   "mimetype": "text/x-scala",
   "name": "scala",
   "nbconvert_exporter": "script",
   "version": "2.13.10"
  }
 },
 "nbformat": 4,
 "nbformat_minor": 5
}
